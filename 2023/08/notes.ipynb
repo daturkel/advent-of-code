{
 "cells": [
  {
   "cell_type": "code",
   "execution_count": 1,
   "metadata": {},
   "outputs": [],
   "source": [
    "with open(\"input.txt\",\"r\") as f:\n",
    "    lines = f.read().splitlines()"
   ]
  },
  {
   "cell_type": "code",
   "execution_count": 3,
   "metadata": {},
   "outputs": [],
   "source": [
    "directions = [{\"L\": 0, \"R\": 1}[direction] for direction in lines[0]]\n",
    "n_directions = len(directions)\n",
    "graph = {}\n",
    "for line in lines[2:]:\n",
    "    node = line[:3]\n",
    "    left = line[7:10]\n",
    "    right = line[12:15]\n",
    "    graph[node] = [left, right]"
   ]
  },
  {
   "cell_type": "code",
   "execution_count": 4,
   "metadata": {},
   "outputs": [],
   "source": [
    "starts = [node for node in graph.keys() if node[2] == \"A\"]"
   ]
  },
  {
   "cell_type": "code",
   "execution_count": 25,
   "metadata": {},
   "outputs": [],
   "source": [
    "def get_first_and_second_cycle(\n",
    "    start: str, directions: list[int], graph: dict[str, tuple[str, str]]\n",
    "):\n",
    "    num_steps_second = 0\n",
    "    num_steps_first = 0\n",
    "    n_directions = len(directions)\n",
    "    current_node = start\n",
    "    end_node = \"###\"\n",
    "    while True:\n",
    "        num_steps_second += 1\n",
    "        current_node = graph[current_node][\n",
    "            directions[(num_steps_second - 1) % n_directions]\n",
    "        ]\n",
    "        if current_node == end_node:\n",
    "            break\n",
    "        elif current_node[2] == \"Z\":\n",
    "            if num_steps_first > 0:\n",
    "                raise ValueError(\"we've visited two separate end nodes!\")\n",
    "            num_steps_first = num_steps_second\n",
    "            end_node = current_node\n",
    "    return num_steps_first, num_steps_second"
   ]
  },
  {
   "cell_type": "code",
   "execution_count": 26,
   "metadata": {},
   "outputs": [
    {
     "name": "stdout",
     "output_type": "stream",
     "text": [
      "DRA\n",
      "20777 steps til XXZ, 41554 steps til XXZ again\n",
      "2.0\n",
      "AAA\n",
      "18673 steps til XXZ, 37346 steps til XXZ again\n",
      "2.0\n",
      "CMA\n",
      "13939 steps til XXZ, 27878 steps til XXZ again\n",
      "2.0\n",
      "MNA\n",
      "17621 steps til XXZ, 35242 steps til XXZ again\n",
      "2.0\n",
      "NJA\n",
      "19199 steps til XXZ, 38398 steps til XXZ again\n",
      "2.0\n",
      "RVA\n",
      "12361 steps til XXZ, 24722 steps til XXZ again\n",
      "2.0\n"
     ]
    }
   ],
   "source": [
    "for start in starts:\n",
    "    print(start)\n",
    "    first, second = get_first_and_second_cycle(start, directions, graph)\n",
    "    print(f\"{first} steps til XXZ, {second} steps til XXZ again\")\n",
    "    print(second / first)"
   ]
  },
  {
   "cell_type": "code",
   "execution_count": null,
   "metadata": {},
   "outputs": [],
   "source": []
  }
 ],
 "metadata": {
  "kernelspec": {
   "display_name": "Python 3",
   "language": "python",
   "name": "python3"
  },
  "language_info": {
   "codemirror_mode": {
    "name": "ipython",
    "version": 3
   },
   "file_extension": ".py",
   "mimetype": "text/x-python",
   "name": "python",
   "nbconvert_exporter": "python",
   "pygments_lexer": "ipython3",
   "version": "3.11.2"
  }
 },
 "nbformat": 4,
 "nbformat_minor": 2
}
